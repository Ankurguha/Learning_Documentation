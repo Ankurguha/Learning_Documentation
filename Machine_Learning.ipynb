{
 "cells": [
  {
   "cell_type": "markdown",
   "id": "9333335f-27d5-4d28-8c89-04c484b144d5",
   "metadata": {},
   "source": [
    "**Artificial Intelligence**\n",
    "Field of computer science which helps to create machines which typically required human intelligence\n",
    "\n",
    "**Machine Learning**\n",
    "Subset of artificial intellligence which focuses on ability of machines to learn patterns from data without being explicitly programmed\n",
    "\n",
    "**Deep Learning**\n",
    "Subset of machine learning which focuses on Neural networks which in a way try to mimic human brains for accomplishing various tasks.\n"
   ]
  },
  {
   "cell_type": "markdown",
   "id": "03cefec5-26d4-4143-9fcf-c9319ddb1524",
   "metadata": {},
   "source": [
    "**Types of Machine Learning**<br>\n",
    "**1. Supervised Machine Learning :**\n",
    "   1. Always have dependent or output variable (Labelled data)\n",
    "   2. If output is continuous then Regression, if output is discrete then Classification (if only 2 classes are there for classification then binary,    else more than 2 will be termed as multi-class classification)\n",
    "  \n",
    "**2. Unsupervised Machine Learning :**\n",
    "   When there is no output variable, and task are perfomed by establising relationship or finding patterns between the columns is termed as unsupervised machine learning algorithms\n",
    "\n",
    "**3. Reinforcement Machine Learning :**\n",
    "\n",
    "   "
   ]
  },
  {
   "cell_type": "code",
   "execution_count": null,
   "id": "017c590d-fce0-4050-9e95-5dd5e4f90f65",
   "metadata": {},
   "outputs": [],
   "source": []
  }
 ],
 "metadata": {
  "kernelspec": {
   "display_name": "Python 3 (ipykernel)",
   "language": "python",
   "name": "python3"
  },
  "language_info": {
   "codemirror_mode": {
    "name": "ipython",
    "version": 3
   },
   "file_extension": ".py",
   "mimetype": "text/x-python",
   "name": "python",
   "nbconvert_exporter": "python",
   "pygments_lexer": "ipython3",
   "version": "3.12.4"
  }
 },
 "nbformat": 4,
 "nbformat_minor": 5
}
